{
 "cells": [
  {
   "cell_type": "code",
   "execution_count": 1,
   "id": "dbdd216e",
   "metadata": {},
   "outputs": [],
   "source": [
    "import pickle\n",
    "import numpy as np\n",
    "\n"
   ]
  },
  {
   "cell_type": "code",
   "execution_count": 2,
   "id": "ca65f678",
   "metadata": {},
   "outputs": [],
   "source": [
    "thermals = pickle.load(open('thermals.pickle', 'rb'))\n",
    "\n",
    "center = (48.9768369291111, 8.342399668092117)\n",
    "\n",
    "lat_start = center[0] - 1.6\n",
    "lat_end = center[0] + 1.6\n",
    "lon_start = center[1] - 2.4\n",
    "lon_end = center[1] + 2.4\n",
    "\n",
    "D = 1000 # Discretisation Points\n",
    "\n",
    "alat = np.linspace(lat_start, lat_end, D)\n",
    "alon = np.linspace(lon_start, lon_end, D)\n",
    "\n",
    "aalat, aalon = np.meshgrid(alat, alon)"
   ]
  },
  {
   "cell_type": "code",
   "execution_count": 3,
   "id": "fe9b7290",
   "metadata": {},
   "outputs": [],
   "source": [
    "def lat2discrete(lat):\n",
    "    return int((lat-lat_start)/(lat_end-lat_start)*D)\n",
    "def lon2discrete(lon):\n",
    "    return int((lon-lon_start)/(lon_end-lon_start)*D)"
   ]
  },
  {
   "cell_type": "code",
   "execution_count": 4,
   "id": "8b7ac0e9",
   "metadata": {},
   "outputs": [
    {
     "name": "stderr",
     "output_type": "stream",
     "text": [
      "<ipython-input-4-0bdc2e38f20f>:11: RuntimeWarning: invalid value encountered in true_divide\n",
      "  img = img/img_N\n"
     ]
    }
   ],
   "source": [
    "from skimage.draw import line_aa\n",
    "from scipy.ndimage import rotate\n",
    "\n",
    "img = np.zeros(aalat.shape, dtype=float)\n",
    "img_N = np.zeros(aalat.shape, dtype=float)\n",
    "for th in thermals:\n",
    "    rr, cc, val = line_aa(lon2discrete(th[0][1]), lat2discrete(th[0][0]), lon2discrete(th[1][1]), lat2discrete(th[1][0]))\n",
    "    img[rr, cc] += val * th[2]\n",
    "    img_N[rr, cc] += val*1\n",
    "    \n",
    "img = img/img_N\n",
    "img = np.nan_to_num(img)\n",
    "\n",
    "\n",
    "img = rotate(img,90)\n",
    "img_N = rotate(img_N,90)"
   ]
  },
  {
   "cell_type": "code",
   "execution_count": 5,
   "id": "94ea644d",
   "metadata": {},
   "outputs": [],
   "source": [
    "from ipyleaflet import Map, Marker, FullScreenControl, MeasureControl, Heatmap, LayersControl\n",
    "\n",
    "m = Map(center=center, zoom=13)\n",
    "m.add_control(FullScreenControl())\n",
    "\n",
    "measure = MeasureControl(\n",
    "    position='bottomleft',\n",
    "    active_color = 'orange',\n",
    "    primary_length_unit = 'kilometers'\n",
    ")\n",
    "m.add_control(measure)\n",
    "\n",
    "control = LayersControl(position='topright')\n",
    "m.add_control(control)\n",
    "\n",
    "marker = Marker(name='Markers', title='Airport',location=center, draggable=True)\n",
    "m.add_layer(marker)"
   ]
  },
  {
   "cell_type": "code",
   "execution_count": 6,
   "id": "d7a04e70",
   "metadata": {},
   "outputs": [],
   "source": [
    "heatmap_vario = Heatmap(name='Mean Vario',\n",
    "    locations=[[lat, lon, v] for lat,lon,v in zip(aalat.flat,aalon.flat,img[::1][::-1].T.flat)],\n",
    "    max_zoom = 13,\n",
    "    radius=15,\n",
    "    blur = 12,\n",
    "    max = 2\n",
    ")\n",
    "\n",
    "m.add_layer(heatmap_vario)\n"
   ]
  },
  {
   "cell_type": "code",
   "execution_count": null,
   "id": "49cc7701",
   "metadata": {},
   "outputs": [],
   "source": [
    "display(m)"
   ]
  },
  {
   "cell_type": "code",
   "execution_count": null,
   "id": "24db9642",
   "metadata": {},
   "outputs": [],
   "source": []
  }
 ],
 "metadata": {
  "kernelspec": {
   "display_name": "Python 3",
   "language": "python",
   "name": "python3"
  },
  "language_info": {
   "codemirror_mode": {
    "name": "ipython",
    "version": 3
   },
   "file_extension": ".py",
   "mimetype": "text/x-python",
   "name": "python",
   "nbconvert_exporter": "python",
   "pygments_lexer": "ipython3",
   "version": "3.9.6"
  }
 },
 "nbformat": 4,
 "nbformat_minor": 5
}
